{
 "cells": [
  {
   "cell_type": "markdown",
   "metadata": {},
   "source": [
    "# 192168\n",
    "# Garcia\n",
    "## 2 BS ME"
   ]
  },
  {
   "cell_type": "code",
   "execution_count": 1,
   "metadata": {},
   "outputs": [],
   "source": [
    "def dollar_conv(USD):\n",
    "    pesos= USD * 50\n",
    "    return pesos"
   ]
  },
  {
   "cell_type": "code",
   "execution_count": 2,
   "metadata": {},
   "outputs": [
    {
     "name": "stdout",
     "output_type": "stream",
     "text": [
      "Enter the amount in USD: 100\n",
      "100.0  US dollar(s) =  5000.0  Philippine Pesos.\n"
     ]
    }
   ],
   "source": [
    "USD= float(input(\"Enter the amount in USD: \"))\n",
    "pesos=dollar_conv(USD)\n",
    "print(USD,\" US dollar(s) = \", pesos,\" Philippine Pesos.\")"
   ]
  },
  {
   "cell_type": "code",
   "execution_count": 19,
   "metadata": {},
   "outputs": [],
   "source": [
    "def a_b_operations(a,b):\n",
    "    sum=a+b\n",
    "    diff=a-b\n",
    "    prod=a*b\n",
    "    quot=a/b\n",
    "    mod= a%b\n",
    "    return (sum,diff,prod,int(quot),mod)\n"
   ]
  },
  {
   "cell_type": "code",
   "execution_count": 21,
   "metadata": {},
   "outputs": [
    {
     "name": "stdout",
     "output_type": "stream",
     "text": [
      "Input first number. 6\n",
      "Input second number. 9\n",
      "15\n",
      "-3\n",
      "54\n",
      "0\n",
      "6\n"
     ]
    }
   ],
   "source": [
    "a=int(input(\"Input first number. \"))\n",
    "b=int(input(\"Input second number. \"))\n",
    "print(a_b_operations(a,b)[0])\n",
    "print(a_b_operations(a,b)[1])\n",
    "print(a_b_operations(a,b)[2])\n",
    "print(a_b_operations(a,b)[3])\n",
    "print(a_b_operations(a,b)[4])\n"
   ]
  },
  {
   "cell_type": "code",
   "execution_count": 68,
   "metadata": {},
   "outputs": [],
   "source": [
    "def convert_cm_to_m(cm):\n",
    "    m=cm/100\n",
    "    return(m)\n",
    "def compute_bmi(kg,m):\n",
    "    bmi=kg/(m*m)\n",
    "    return(bmi)"
   ]
  },
  {
   "cell_type": "code",
   "execution_count": 69,
   "metadata": {},
   "outputs": [
    {
     "name": "stdout",
     "output_type": "stream",
     "text": [
      "Enter your weight (kg) 57\n",
      "Enter your height (cm) 175\n",
      "Computed BMI is  18.612244897959183\n"
     ]
    }
   ],
   "source": [
    "kg=float(input(\"Enter your weight (kg) \"))\n",
    "cm=float(input(\"Enter your height (cm) \"))\n",
    "m=convert_cm_to_m(cm)\n",
    "bmi=float(compute_bmi(kg,m))\n",
    "print(\"Computed BMI is \", bmi)\n"
   ]
  },
  {
   "cell_type": "code",
   "execution_count": null,
   "metadata": {},
   "outputs": [],
   "source": []
  },
  {
   "cell_type": "code",
   "execution_count": null,
   "metadata": {},
   "outputs": [],
   "source": []
  }
 ],
 "metadata": {
  "kernelspec": {
   "display_name": "Python 3",
   "language": "python",
   "name": "python3"
  },
  "language_info": {
   "codemirror_mode": {
    "name": "ipython",
    "version": 3
   },
   "file_extension": ".py",
   "mimetype": "text/x-python",
   "name": "python",
   "nbconvert_exporter": "python",
   "pygments_lexer": "ipython3",
   "version": "3.7.6"
  }
 },
 "nbformat": 4,
 "nbformat_minor": 4
}
