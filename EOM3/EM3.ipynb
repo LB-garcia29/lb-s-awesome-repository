{
 "cells": [
  {
   "cell_type": "markdown",
   "metadata": {},
   "source": [
    "## End of Module Assessment 3"
   ]
  },
  {
   "cell_type": "markdown",
   "metadata": {},
   "source": [
    "Your org implemented a Google Form for your Recweek, but it was not able to design it well enough to prevent ambiguous data entry.You are tasked to clean up a csv of fake, dirty data called **recweekdata.csv** (presumably exported from some spreadsheet).\n",
    "\n",
    "In addition, you have a file named **studentprofiles.csv** which has first and last names plus the genders of the students.\n",
    "\n",
    "The output of this assignment is to convert recweekdata.csv into usable data for statistics. Submit the following files through GitHub:\n",
    "1. A cleaned recweekdata.csv called **cleanrecweekdata.csv**\n",
    "2. This notebook, containing the code (properly commented) that you used to clean the data\n",
    "\n",
    "Your solution **must use Pandas and possibly Numpy**.\n",
    "\n",
    "Avoid using loops as much as you can. If I see loops where Pandas vectorization operations are more appropriate, you will receive deductions. \n",
    "\n",
    "Hint(s):\n",
    "* if you need to apply scalar (regular single-value) functions on Pandas columns, use the Pandas Dataframe .apply(...) function\n",
    "\n",
    "Clearly show your output similiar to what you see in this notebook. \n",
    "\n",
    "#### Required Statistics\n",
    "\n",
    "1. How many people were born in each month?\n",
    "2. How many people were born on each day?\n",
    "3. How many people were born in each year?\n",
    "4. How many people come from each course?\n",
    "5. How many people per year level?\n",
    "6. How many people have numbers from Globe (0917 or 0927) and Smart (0918)? *Note: it's up to you how to format this output*\n",
    "7. How many Globe subscribers are: Male? Female?\n",
    "8. How many Smart subscribers are: Male? Female?\n"
   ]
  },
  {
   "cell_type": "code",
   "execution_count": 2,
   "metadata": {},
   "outputs": [],
   "source": [
    "# start of code; add as many cells as needed\n",
    "import pandas as pd\n"
   ]
  },
  {
   "cell_type": "code",
   "execution_count": 3,
   "metadata": {},
   "outputs": [],
   "source": [
    "def month_fix(month):\n",
    "    if month == \"Jan\" or month == '1':\n",
    "        return 'January'\n",
    "    elif month == \"Feb\" or month == '2':\n",
    "        return 'February' \n",
    "    elif month == \"Mar\" or month == '3':\n",
    "        return 'March' \n",
    "    elif month == \"Apr\"  or month == '4':\n",
    "        return 'April' \n",
    "    elif month == '5':\n",
    "        return 'May' \n",
    "    elif month == \"Jun\" or month == '6':\n",
    "        return 'June' \n",
    "    elif month == \"Jul\" or month == '7':\n",
    "        return 'July' \n",
    "    elif month == \"Aug\" or month == '8':\n",
    "        return 'August' \n",
    "    elif month ==  \"Sep\" or month == '9':\n",
    "        return 'September' \n",
    "    elif month == \"Oct\" or month == '10':\n",
    "        return 'October' \n",
    "    elif month ==  \"Nov\" or month == '11':\n",
    "        return 'November' \n",
    "    elif month ==  \"Dec\" or month == '12':\n",
    "        return 'December' \n",
    "    else:\n",
    "        return month "
   ]
  },
  {
   "cell_type": "code",
   "execution_count": 4,
   "metadata": {},
   "outputs": [],
   "source": [
    "def course_fix(course):\n",
    "    if course=='BS CTM' or course=='Communication Technology' or course=='CTM':\n",
    "        return 'BS Communications Technology'\n",
    "    elif course=='BS ITE' or course=='IT Entrepreneurship' or course=='ITE':\n",
    "\t    return 'BS IT Entrepreneurship'\n",
    "    elif course=='BS LM' or course == 'Legal Management' or course=='LM':\n",
    "\t    return 'BS Legal Management'\n",
    "    elif course=='Management' or course == 'BS MGT' or course=='MGT':\n",
    "\t    return 'BS Management'\n",
    "    elif course=='BS ME' or course=='Management Engineering' or course=='ME':\n",
    "\t    return 'BS Management Engineering'\n",
    "    else:\n",
    "        return course "
   ]
  },
  {
   "cell_type": "code",
   "execution_count": 5,
   "metadata": {},
   "outputs": [],
   "source": [
    "def year_fix(year):\n",
    "    if year==97:\n",
    "        return 1997\n",
    "    elif year==98:\n",
    "        return 1998\n",
    "    elif year==99:\n",
    "        return 1999\t\n",
    "    elif year==00:\n",
    "        return 2000\n",
    "    else:\n",
    "        return year"
   ]
  },
  {
   "cell_type": "code",
   "execution_count": 6,
   "metadata": {},
   "outputs": [],
   "source": [
    "def number_fix(number):\n",
    "    if number[0]=='+':\n",
    "        number='0'+number[4:]\n",
    "        return number\n",
    "    elif number[0:2]=='63':\n",
    "        number='0'+number[3:]\n",
    "        return number\n",
    "    elif number[0]=='0':\n",
    "        return number\n",
    "    else:\n",
    "        number='0'+number\n",
    "        return number"
   ]
  },
  {
   "cell_type": "code",
   "execution_count": 30,
   "metadata": {},
   "outputs": [],
   "source": [
    "def carrier(mobileno):\n",
    "    if mobileno[0:4]=='0918':\n",
    "        return 'Smart'\n",
    "    else:\n",
    "        return 'Globe'"
   ]
  },
  {
   "cell_type": "code",
   "execution_count": 31,
   "metadata": {},
   "outputs": [],
   "source": [
    "# the outputs below use the dataframe variable name recweek\n",
    "recweek = pd.read_csv('recweekdata.csv')"
   ]
  },
  {
   "cell_type": "code",
   "execution_count": 32,
   "metadata": {},
   "outputs": [
    {
     "output_type": "execute_result",
     "data": {
      "text/plain": "  firstname   lastname birthmonth  birthday  birthyear      course  yearlevel  \\\n0     name1  lastname1         11        26       1998       BS LM          2   \n1     name2  lastname2        May        26       2001  Management          4   \n2     name3  lastname3          5        16       1997      BS CTM          1   \n3     name4  lastname4        Dec         9         97      BS ITE          3   \n4     name5  lastname5        Sep         5         97      BS CTM          3   \n\n        phonenumber  \n0  +63 918 302 6210  \n1      927 212 6276  \n2  +63 918 253 7017  \n3      918 714 4360  \n4  +63 927 462 1674  ",
      "text/html": "<div>\n<style scoped>\n    .dataframe tbody tr th:only-of-type {\n        vertical-align: middle;\n    }\n\n    .dataframe tbody tr th {\n        vertical-align: top;\n    }\n\n    .dataframe thead th {\n        text-align: right;\n    }\n</style>\n<table border=\"1\" class=\"dataframe\">\n  <thead>\n    <tr style=\"text-align: right;\">\n      <th></th>\n      <th>firstname</th>\n      <th>lastname</th>\n      <th>birthmonth</th>\n      <th>birthday</th>\n      <th>birthyear</th>\n      <th>course</th>\n      <th>yearlevel</th>\n      <th>phonenumber</th>\n    </tr>\n  </thead>\n  <tbody>\n    <tr>\n      <th>0</th>\n      <td>name1</td>\n      <td>lastname1</td>\n      <td>11</td>\n      <td>26</td>\n      <td>1998</td>\n      <td>BS LM</td>\n      <td>2</td>\n      <td>+63 918 302 6210</td>\n    </tr>\n    <tr>\n      <th>1</th>\n      <td>name2</td>\n      <td>lastname2</td>\n      <td>May</td>\n      <td>26</td>\n      <td>2001</td>\n      <td>Management</td>\n      <td>4</td>\n      <td>927 212 6276</td>\n    </tr>\n    <tr>\n      <th>2</th>\n      <td>name3</td>\n      <td>lastname3</td>\n      <td>5</td>\n      <td>16</td>\n      <td>1997</td>\n      <td>BS CTM</td>\n      <td>1</td>\n      <td>+63 918 253 7017</td>\n    </tr>\n    <tr>\n      <th>3</th>\n      <td>name4</td>\n      <td>lastname4</td>\n      <td>Dec</td>\n      <td>9</td>\n      <td>97</td>\n      <td>BS ITE</td>\n      <td>3</td>\n      <td>918 714 4360</td>\n    </tr>\n    <tr>\n      <th>4</th>\n      <td>name5</td>\n      <td>lastname5</td>\n      <td>Sep</td>\n      <td>5</td>\n      <td>97</td>\n      <td>BS CTM</td>\n      <td>3</td>\n      <td>+63 927 462 1674</td>\n    </tr>\n  </tbody>\n</table>\n</div>"
     },
     "metadata": {},
     "execution_count": 32
    }
   ],
   "source": [
    "# write code here\n",
    "recweek.head()\n"
   ]
  },
  {
   "cell_type": "code",
   "execution_count": 33,
   "metadata": {},
   "outputs": [
    {
     "output_type": "execute_result",
     "data": {
      "text/plain": "     firstname      lastname birthmonth  birthday  birthyear  \\\n2995  name2996  lastname2996      March        28         97   \n2996  name2997  lastname2997        May        19       1998   \n2997  name2998  lastname2998       July         3         98   \n2998  name2999  lastname2999         12         2         98   \n2999  name3000  lastname3000        Jul        13       1997   \n\n                course  yearlevel       phonenumber  \n2995            BS CTM          2      917 795 5051  \n2996                LM          2      917 445 3378  \n2997               ITE          2      917 154 5694  \n2998                ME          3      927 497 8977  \n2999  Legal Management          1  +63 918 719 7624  ",
      "text/html": "<div>\n<style scoped>\n    .dataframe tbody tr th:only-of-type {\n        vertical-align: middle;\n    }\n\n    .dataframe tbody tr th {\n        vertical-align: top;\n    }\n\n    .dataframe thead th {\n        text-align: right;\n    }\n</style>\n<table border=\"1\" class=\"dataframe\">\n  <thead>\n    <tr style=\"text-align: right;\">\n      <th></th>\n      <th>firstname</th>\n      <th>lastname</th>\n      <th>birthmonth</th>\n      <th>birthday</th>\n      <th>birthyear</th>\n      <th>course</th>\n      <th>yearlevel</th>\n      <th>phonenumber</th>\n    </tr>\n  </thead>\n  <tbody>\n    <tr>\n      <th>2995</th>\n      <td>name2996</td>\n      <td>lastname2996</td>\n      <td>March</td>\n      <td>28</td>\n      <td>97</td>\n      <td>BS CTM</td>\n      <td>2</td>\n      <td>917 795 5051</td>\n    </tr>\n    <tr>\n      <th>2996</th>\n      <td>name2997</td>\n      <td>lastname2997</td>\n      <td>May</td>\n      <td>19</td>\n      <td>1998</td>\n      <td>LM</td>\n      <td>2</td>\n      <td>917 445 3378</td>\n    </tr>\n    <tr>\n      <th>2997</th>\n      <td>name2998</td>\n      <td>lastname2998</td>\n      <td>July</td>\n      <td>3</td>\n      <td>98</td>\n      <td>ITE</td>\n      <td>2</td>\n      <td>917 154 5694</td>\n    </tr>\n    <tr>\n      <th>2998</th>\n      <td>name2999</td>\n      <td>lastname2999</td>\n      <td>12</td>\n      <td>2</td>\n      <td>98</td>\n      <td>ME</td>\n      <td>3</td>\n      <td>927 497 8977</td>\n    </tr>\n    <tr>\n      <th>2999</th>\n      <td>name3000</td>\n      <td>lastname3000</td>\n      <td>Jul</td>\n      <td>13</td>\n      <td>1997</td>\n      <td>Legal Management</td>\n      <td>1</td>\n      <td>+63 918 719 7624</td>\n    </tr>\n  </tbody>\n</table>\n</div>"
     },
     "metadata": {},
     "execution_count": 33
    }
   ],
   "source": [
    "# write code here\n",
    "recweek.tail()\n"
   ]
  },
  {
   "cell_type": "code",
   "execution_count": 34,
   "metadata": {},
   "outputs": [
    {
     "output_type": "execute_result",
     "data": {
      "text/plain": "     firstname      lastname birthmonth  birthday  birthyear  \\\n0        name1     lastname1   November        26       1998   \n1        name2     lastname2        May        26       2001   \n2        name3     lastname3        May        16       1997   \n3        name4     lastname4   December         9         97   \n4        name5     lastname5  September         5         97   \n...        ...           ...        ...       ...        ...   \n2995  name2996  lastname2996      March        28         97   \n2996  name2997  lastname2997        May        19       1998   \n2997  name2998  lastname2998       July         3         98   \n2998  name2999  lastname2999   December         2         98   \n2999  name3000  lastname3000       July        13       1997   \n\n                course  yearlevel       phonenumber  \n0                BS LM          2  +63 918 302 6210  \n1           Management          4      927 212 6276  \n2               BS CTM          1  +63 918 253 7017  \n3               BS ITE          3      918 714 4360  \n4               BS CTM          3  +63 927 462 1674  \n...                ...        ...               ...  \n2995            BS CTM          2      917 795 5051  \n2996                LM          2      917 445 3378  \n2997               ITE          2      917 154 5694  \n2998                ME          3      927 497 8977  \n2999  Legal Management          1  +63 918 719 7624  \n\n[3000 rows x 8 columns]",
      "text/html": "<div>\n<style scoped>\n    .dataframe tbody tr th:only-of-type {\n        vertical-align: middle;\n    }\n\n    .dataframe tbody tr th {\n        vertical-align: top;\n    }\n\n    .dataframe thead th {\n        text-align: right;\n    }\n</style>\n<table border=\"1\" class=\"dataframe\">\n  <thead>\n    <tr style=\"text-align: right;\">\n      <th></th>\n      <th>firstname</th>\n      <th>lastname</th>\n      <th>birthmonth</th>\n      <th>birthday</th>\n      <th>birthyear</th>\n      <th>course</th>\n      <th>yearlevel</th>\n      <th>phonenumber</th>\n    </tr>\n  </thead>\n  <tbody>\n    <tr>\n      <th>0</th>\n      <td>name1</td>\n      <td>lastname1</td>\n      <td>November</td>\n      <td>26</td>\n      <td>1998</td>\n      <td>BS LM</td>\n      <td>2</td>\n      <td>+63 918 302 6210</td>\n    </tr>\n    <tr>\n      <th>1</th>\n      <td>name2</td>\n      <td>lastname2</td>\n      <td>May</td>\n      <td>26</td>\n      <td>2001</td>\n      <td>Management</td>\n      <td>4</td>\n      <td>927 212 6276</td>\n    </tr>\n    <tr>\n      <th>2</th>\n      <td>name3</td>\n      <td>lastname3</td>\n      <td>May</td>\n      <td>16</td>\n      <td>1997</td>\n      <td>BS CTM</td>\n      <td>1</td>\n      <td>+63 918 253 7017</td>\n    </tr>\n    <tr>\n      <th>3</th>\n      <td>name4</td>\n      <td>lastname4</td>\n      <td>December</td>\n      <td>9</td>\n      <td>97</td>\n      <td>BS ITE</td>\n      <td>3</td>\n      <td>918 714 4360</td>\n    </tr>\n    <tr>\n      <th>4</th>\n      <td>name5</td>\n      <td>lastname5</td>\n      <td>September</td>\n      <td>5</td>\n      <td>97</td>\n      <td>BS CTM</td>\n      <td>3</td>\n      <td>+63 927 462 1674</td>\n    </tr>\n    <tr>\n      <th>...</th>\n      <td>...</td>\n      <td>...</td>\n      <td>...</td>\n      <td>...</td>\n      <td>...</td>\n      <td>...</td>\n      <td>...</td>\n      <td>...</td>\n    </tr>\n    <tr>\n      <th>2995</th>\n      <td>name2996</td>\n      <td>lastname2996</td>\n      <td>March</td>\n      <td>28</td>\n      <td>97</td>\n      <td>BS CTM</td>\n      <td>2</td>\n      <td>917 795 5051</td>\n    </tr>\n    <tr>\n      <th>2996</th>\n      <td>name2997</td>\n      <td>lastname2997</td>\n      <td>May</td>\n      <td>19</td>\n      <td>1998</td>\n      <td>LM</td>\n      <td>2</td>\n      <td>917 445 3378</td>\n    </tr>\n    <tr>\n      <th>2997</th>\n      <td>name2998</td>\n      <td>lastname2998</td>\n      <td>July</td>\n      <td>3</td>\n      <td>98</td>\n      <td>ITE</td>\n      <td>2</td>\n      <td>917 154 5694</td>\n    </tr>\n    <tr>\n      <th>2998</th>\n      <td>name2999</td>\n      <td>lastname2999</td>\n      <td>December</td>\n      <td>2</td>\n      <td>98</td>\n      <td>ME</td>\n      <td>3</td>\n      <td>927 497 8977</td>\n    </tr>\n    <tr>\n      <th>2999</th>\n      <td>name3000</td>\n      <td>lastname3000</td>\n      <td>July</td>\n      <td>13</td>\n      <td>1997</td>\n      <td>Legal Management</td>\n      <td>1</td>\n      <td>+63 918 719 7624</td>\n    </tr>\n  </tbody>\n</table>\n<p>3000 rows × 8 columns</p>\n</div>"
     },
     "metadata": {},
     "execution_count": 34
    }
   ],
   "source": [
    "# write code here\n",
    "recweek['birthmonth'] = recweek['birthmonth'].apply(lambda x: month_fix(x))\n",
    "recweek\n"
   ]
  },
  {
   "cell_type": "code",
   "execution_count": 35,
   "metadata": {},
   "outputs": [
    {
     "output_type": "execute_result",
     "data": {
      "text/plain": "     firstname      lastname birthmonth  birthday  birthyear  \\\n0        name1     lastname1   November        26       1998   \n1        name2     lastname2        May        26       2001   \n2        name3     lastname3        May        16       1997   \n3        name4     lastname4   December         9       1997   \n4        name5     lastname5  September         5       1997   \n...        ...           ...        ...       ...        ...   \n2995  name2996  lastname2996      March        28       1997   \n2996  name2997  lastname2997        May        19       1998   \n2997  name2998  lastname2998       July         3       1998   \n2998  name2999  lastname2999   December         2       1998   \n2999  name3000  lastname3000       July        13       1997   \n\n                course  yearlevel       phonenumber  \n0                BS LM          2  +63 918 302 6210  \n1           Management          4      927 212 6276  \n2               BS CTM          1  +63 918 253 7017  \n3               BS ITE          3      918 714 4360  \n4               BS CTM          3  +63 927 462 1674  \n...                ...        ...               ...  \n2995            BS CTM          2      917 795 5051  \n2996                LM          2      917 445 3378  \n2997               ITE          2      917 154 5694  \n2998                ME          3      927 497 8977  \n2999  Legal Management          1  +63 918 719 7624  \n\n[3000 rows x 8 columns]",
      "text/html": "<div>\n<style scoped>\n    .dataframe tbody tr th:only-of-type {\n        vertical-align: middle;\n    }\n\n    .dataframe tbody tr th {\n        vertical-align: top;\n    }\n\n    .dataframe thead th {\n        text-align: right;\n    }\n</style>\n<table border=\"1\" class=\"dataframe\">\n  <thead>\n    <tr style=\"text-align: right;\">\n      <th></th>\n      <th>firstname</th>\n      <th>lastname</th>\n      <th>birthmonth</th>\n      <th>birthday</th>\n      <th>birthyear</th>\n      <th>course</th>\n      <th>yearlevel</th>\n      <th>phonenumber</th>\n    </tr>\n  </thead>\n  <tbody>\n    <tr>\n      <th>0</th>\n      <td>name1</td>\n      <td>lastname1</td>\n      <td>November</td>\n      <td>26</td>\n      <td>1998</td>\n      <td>BS LM</td>\n      <td>2</td>\n      <td>+63 918 302 6210</td>\n    </tr>\n    <tr>\n      <th>1</th>\n      <td>name2</td>\n      <td>lastname2</td>\n      <td>May</td>\n      <td>26</td>\n      <td>2001</td>\n      <td>Management</td>\n      <td>4</td>\n      <td>927 212 6276</td>\n    </tr>\n    <tr>\n      <th>2</th>\n      <td>name3</td>\n      <td>lastname3</td>\n      <td>May</td>\n      <td>16</td>\n      <td>1997</td>\n      <td>BS CTM</td>\n      <td>1</td>\n      <td>+63 918 253 7017</td>\n    </tr>\n    <tr>\n      <th>3</th>\n      <td>name4</td>\n      <td>lastname4</td>\n      <td>December</td>\n      <td>9</td>\n      <td>1997</td>\n      <td>BS ITE</td>\n      <td>3</td>\n      <td>918 714 4360</td>\n    </tr>\n    <tr>\n      <th>4</th>\n      <td>name5</td>\n      <td>lastname5</td>\n      <td>September</td>\n      <td>5</td>\n      <td>1997</td>\n      <td>BS CTM</td>\n      <td>3</td>\n      <td>+63 927 462 1674</td>\n    </tr>\n    <tr>\n      <th>...</th>\n      <td>...</td>\n      <td>...</td>\n      <td>...</td>\n      <td>...</td>\n      <td>...</td>\n      <td>...</td>\n      <td>...</td>\n      <td>...</td>\n    </tr>\n    <tr>\n      <th>2995</th>\n      <td>name2996</td>\n      <td>lastname2996</td>\n      <td>March</td>\n      <td>28</td>\n      <td>1997</td>\n      <td>BS CTM</td>\n      <td>2</td>\n      <td>917 795 5051</td>\n    </tr>\n    <tr>\n      <th>2996</th>\n      <td>name2997</td>\n      <td>lastname2997</td>\n      <td>May</td>\n      <td>19</td>\n      <td>1998</td>\n      <td>LM</td>\n      <td>2</td>\n      <td>917 445 3378</td>\n    </tr>\n    <tr>\n      <th>2997</th>\n      <td>name2998</td>\n      <td>lastname2998</td>\n      <td>July</td>\n      <td>3</td>\n      <td>1998</td>\n      <td>ITE</td>\n      <td>2</td>\n      <td>917 154 5694</td>\n    </tr>\n    <tr>\n      <th>2998</th>\n      <td>name2999</td>\n      <td>lastname2999</td>\n      <td>December</td>\n      <td>2</td>\n      <td>1998</td>\n      <td>ME</td>\n      <td>3</td>\n      <td>927 497 8977</td>\n    </tr>\n    <tr>\n      <th>2999</th>\n      <td>name3000</td>\n      <td>lastname3000</td>\n      <td>July</td>\n      <td>13</td>\n      <td>1997</td>\n      <td>Legal Management</td>\n      <td>1</td>\n      <td>+63 918 719 7624</td>\n    </tr>\n  </tbody>\n</table>\n<p>3000 rows × 8 columns</p>\n</div>"
     },
     "metadata": {},
     "execution_count": 35
    }
   ],
   "source": [
    "#birthyear cleaning\n",
    "recweek['birthyear'] = recweek['birthyear'].apply(lambda x: year_fix(x))\n",
    "recweek"
   ]
  },
  {
   "cell_type": "code",
   "execution_count": 36,
   "metadata": {},
   "outputs": [
    {
     "output_type": "execute_result",
     "data": {
      "text/plain": "     firstname      lastname birthmonth  birthday  birthyear  \\\n0        name1     lastname1   November        26       1998   \n1        name2     lastname2        May        26       2001   \n2        name3     lastname3        May        16       1997   \n3        name4     lastname4   December         9       1997   \n4        name5     lastname5  September         5       1997   \n...        ...           ...        ...       ...        ...   \n2995  name2996  lastname2996      March        28       1997   \n2996  name2997  lastname2997        May        19       1998   \n2997  name2998  lastname2998       July         3       1998   \n2998  name2999  lastname2999   December         2       1998   \n2999  name3000  lastname3000       July        13       1997   \n\n                            course  yearlevel       phonenumber  \n0              BS Legal Management          2  +63 918 302 6210  \n1                    BS Management          4      927 212 6276  \n2     BS Communications Technology          1  +63 918 253 7017  \n3           BS IT Entrepreneurship          3      918 714 4360  \n4     BS Communications Technology          3  +63 927 462 1674  \n...                            ...        ...               ...  \n2995  BS Communications Technology          2      917 795 5051  \n2996           BS Legal Management          2      917 445 3378  \n2997        BS IT Entrepreneurship          2      917 154 5694  \n2998     BS Management Engineering          3      927 497 8977  \n2999           BS Legal Management          1  +63 918 719 7624  \n\n[3000 rows x 8 columns]",
      "text/html": "<div>\n<style scoped>\n    .dataframe tbody tr th:only-of-type {\n        vertical-align: middle;\n    }\n\n    .dataframe tbody tr th {\n        vertical-align: top;\n    }\n\n    .dataframe thead th {\n        text-align: right;\n    }\n</style>\n<table border=\"1\" class=\"dataframe\">\n  <thead>\n    <tr style=\"text-align: right;\">\n      <th></th>\n      <th>firstname</th>\n      <th>lastname</th>\n      <th>birthmonth</th>\n      <th>birthday</th>\n      <th>birthyear</th>\n      <th>course</th>\n      <th>yearlevel</th>\n      <th>phonenumber</th>\n    </tr>\n  </thead>\n  <tbody>\n    <tr>\n      <th>0</th>\n      <td>name1</td>\n      <td>lastname1</td>\n      <td>November</td>\n      <td>26</td>\n      <td>1998</td>\n      <td>BS Legal Management</td>\n      <td>2</td>\n      <td>+63 918 302 6210</td>\n    </tr>\n    <tr>\n      <th>1</th>\n      <td>name2</td>\n      <td>lastname2</td>\n      <td>May</td>\n      <td>26</td>\n      <td>2001</td>\n      <td>BS Management</td>\n      <td>4</td>\n      <td>927 212 6276</td>\n    </tr>\n    <tr>\n      <th>2</th>\n      <td>name3</td>\n      <td>lastname3</td>\n      <td>May</td>\n      <td>16</td>\n      <td>1997</td>\n      <td>BS Communications Technology</td>\n      <td>1</td>\n      <td>+63 918 253 7017</td>\n    </tr>\n    <tr>\n      <th>3</th>\n      <td>name4</td>\n      <td>lastname4</td>\n      <td>December</td>\n      <td>9</td>\n      <td>1997</td>\n      <td>BS IT Entrepreneurship</td>\n      <td>3</td>\n      <td>918 714 4360</td>\n    </tr>\n    <tr>\n      <th>4</th>\n      <td>name5</td>\n      <td>lastname5</td>\n      <td>September</td>\n      <td>5</td>\n      <td>1997</td>\n      <td>BS Communications Technology</td>\n      <td>3</td>\n      <td>+63 927 462 1674</td>\n    </tr>\n    <tr>\n      <th>...</th>\n      <td>...</td>\n      <td>...</td>\n      <td>...</td>\n      <td>...</td>\n      <td>...</td>\n      <td>...</td>\n      <td>...</td>\n      <td>...</td>\n    </tr>\n    <tr>\n      <th>2995</th>\n      <td>name2996</td>\n      <td>lastname2996</td>\n      <td>March</td>\n      <td>28</td>\n      <td>1997</td>\n      <td>BS Communications Technology</td>\n      <td>2</td>\n      <td>917 795 5051</td>\n    </tr>\n    <tr>\n      <th>2996</th>\n      <td>name2997</td>\n      <td>lastname2997</td>\n      <td>May</td>\n      <td>19</td>\n      <td>1998</td>\n      <td>BS Legal Management</td>\n      <td>2</td>\n      <td>917 445 3378</td>\n    </tr>\n    <tr>\n      <th>2997</th>\n      <td>name2998</td>\n      <td>lastname2998</td>\n      <td>July</td>\n      <td>3</td>\n      <td>1998</td>\n      <td>BS IT Entrepreneurship</td>\n      <td>2</td>\n      <td>917 154 5694</td>\n    </tr>\n    <tr>\n      <th>2998</th>\n      <td>name2999</td>\n      <td>lastname2999</td>\n      <td>December</td>\n      <td>2</td>\n      <td>1998</td>\n      <td>BS Management Engineering</td>\n      <td>3</td>\n      <td>927 497 8977</td>\n    </tr>\n    <tr>\n      <th>2999</th>\n      <td>name3000</td>\n      <td>lastname3000</td>\n      <td>July</td>\n      <td>13</td>\n      <td>1997</td>\n      <td>BS Legal Management</td>\n      <td>1</td>\n      <td>+63 918 719 7624</td>\n    </tr>\n  </tbody>\n</table>\n<p>3000 rows × 8 columns</p>\n</div>"
     },
     "metadata": {},
     "execution_count": 36
    }
   ],
   "source": [
    "#course cleaning\n",
    "recweek['course'] = recweek['course'].apply(lambda x: course_fix(x))\n",
    "recweek"
   ]
  },
  {
   "cell_type": "code",
   "execution_count": 61,
   "metadata": {},
   "outputs": [],
   "source": [
    "# mobile number cleaning"
   ]
  },
  {
   "cell_type": "code",
   "execution_count": 38,
   "metadata": {},
   "outputs": [
    {
     "output_type": "execute_result",
     "data": {
      "text/plain": "     firstname      lastname birthmonth  birthday  birthyear  \\\n0        name1     lastname1   November        26       1998   \n1        name2     lastname2        May        26       2001   \n2        name3     lastname3        May        16       1997   \n3        name4     lastname4   December         9       1997   \n4        name5     lastname5  September         5       1997   \n...        ...           ...        ...       ...        ...   \n2995  name2996  lastname2996      March        28       1997   \n2996  name2997  lastname2997        May        19       1998   \n2997  name2998  lastname2998       July         3       1998   \n2998  name2999  lastname2999   December         2       1998   \n2999  name3000  lastname3000       July        13       1997   \n\n                            course  yearlevel    phonenumber  \n0              BS Legal Management          2  0918 302 6210  \n1                    BS Management          4  0927 212 6276  \n2     BS Communications Technology          1  0918 253 7017  \n3           BS IT Entrepreneurship          3  0918 714 4360  \n4     BS Communications Technology          3  0927 462 1674  \n...                            ...        ...            ...  \n2995  BS Communications Technology          2  0917 795 5051  \n2996           BS Legal Management          2  0917 445 3378  \n2997        BS IT Entrepreneurship          2  0917 154 5694  \n2998     BS Management Engineering          3  0927 497 8977  \n2999           BS Legal Management          1  0918 719 7624  \n\n[3000 rows x 8 columns]",
      "text/html": "<div>\n<style scoped>\n    .dataframe tbody tr th:only-of-type {\n        vertical-align: middle;\n    }\n\n    .dataframe tbody tr th {\n        vertical-align: top;\n    }\n\n    .dataframe thead th {\n        text-align: right;\n    }\n</style>\n<table border=\"1\" class=\"dataframe\">\n  <thead>\n    <tr style=\"text-align: right;\">\n      <th></th>\n      <th>firstname</th>\n      <th>lastname</th>\n      <th>birthmonth</th>\n      <th>birthday</th>\n      <th>birthyear</th>\n      <th>course</th>\n      <th>yearlevel</th>\n      <th>phonenumber</th>\n    </tr>\n  </thead>\n  <tbody>\n    <tr>\n      <th>0</th>\n      <td>name1</td>\n      <td>lastname1</td>\n      <td>November</td>\n      <td>26</td>\n      <td>1998</td>\n      <td>BS Legal Management</td>\n      <td>2</td>\n      <td>0918 302 6210</td>\n    </tr>\n    <tr>\n      <th>1</th>\n      <td>name2</td>\n      <td>lastname2</td>\n      <td>May</td>\n      <td>26</td>\n      <td>2001</td>\n      <td>BS Management</td>\n      <td>4</td>\n      <td>0927 212 6276</td>\n    </tr>\n    <tr>\n      <th>2</th>\n      <td>name3</td>\n      <td>lastname3</td>\n      <td>May</td>\n      <td>16</td>\n      <td>1997</td>\n      <td>BS Communications Technology</td>\n      <td>1</td>\n      <td>0918 253 7017</td>\n    </tr>\n    <tr>\n      <th>3</th>\n      <td>name4</td>\n      <td>lastname4</td>\n      <td>December</td>\n      <td>9</td>\n      <td>1997</td>\n      <td>BS IT Entrepreneurship</td>\n      <td>3</td>\n      <td>0918 714 4360</td>\n    </tr>\n    <tr>\n      <th>4</th>\n      <td>name5</td>\n      <td>lastname5</td>\n      <td>September</td>\n      <td>5</td>\n      <td>1997</td>\n      <td>BS Communications Technology</td>\n      <td>3</td>\n      <td>0927 462 1674</td>\n    </tr>\n    <tr>\n      <th>...</th>\n      <td>...</td>\n      <td>...</td>\n      <td>...</td>\n      <td>...</td>\n      <td>...</td>\n      <td>...</td>\n      <td>...</td>\n      <td>...</td>\n    </tr>\n    <tr>\n      <th>2995</th>\n      <td>name2996</td>\n      <td>lastname2996</td>\n      <td>March</td>\n      <td>28</td>\n      <td>1997</td>\n      <td>BS Communications Technology</td>\n      <td>2</td>\n      <td>0917 795 5051</td>\n    </tr>\n    <tr>\n      <th>2996</th>\n      <td>name2997</td>\n      <td>lastname2997</td>\n      <td>May</td>\n      <td>19</td>\n      <td>1998</td>\n      <td>BS Legal Management</td>\n      <td>2</td>\n      <td>0917 445 3378</td>\n    </tr>\n    <tr>\n      <th>2997</th>\n      <td>name2998</td>\n      <td>lastname2998</td>\n      <td>July</td>\n      <td>3</td>\n      <td>1998</td>\n      <td>BS IT Entrepreneurship</td>\n      <td>2</td>\n      <td>0917 154 5694</td>\n    </tr>\n    <tr>\n      <th>2998</th>\n      <td>name2999</td>\n      <td>lastname2999</td>\n      <td>December</td>\n      <td>2</td>\n      <td>1998</td>\n      <td>BS Management Engineering</td>\n      <td>3</td>\n      <td>0927 497 8977</td>\n    </tr>\n    <tr>\n      <th>2999</th>\n      <td>name3000</td>\n      <td>lastname3000</td>\n      <td>July</td>\n      <td>13</td>\n      <td>1997</td>\n      <td>BS Legal Management</td>\n      <td>1</td>\n      <td>0918 719 7624</td>\n    </tr>\n  </tbody>\n</table>\n<p>3000 rows × 8 columns</p>\n</div>"
     },
     "metadata": {},
     "execution_count": 38
    }
   ],
   "source": [
    "recweek['phonenumber'] = recweek['phonenumber'].apply(lambda x: number_fix(x))\n",
    "recweek"
   ]
  },
  {
   "cell_type": "code",
   "execution_count": 39,
   "metadata": {},
   "outputs": [
    {
     "output_type": "execute_result",
     "data": {
      "text/plain": "     firstname      lastname  gender\n0        name1     lastname1  Female\n1        name2     lastname2  Female\n2        name3     lastname3  Female\n3        name4     lastname4    Male\n4        name5     lastname5  Female\n...        ...           ...     ...\n2995  name2996  lastname2996  Female\n2996  name2997  lastname2997    Male\n2997  name2998  lastname2998  Female\n2998  name2999  lastname2999    Male\n2999  name3000  lastname3000    Male\n\n[3000 rows x 3 columns]",
      "text/html": "<div>\n<style scoped>\n    .dataframe tbody tr th:only-of-type {\n        vertical-align: middle;\n    }\n\n    .dataframe tbody tr th {\n        vertical-align: top;\n    }\n\n    .dataframe thead th {\n        text-align: right;\n    }\n</style>\n<table border=\"1\" class=\"dataframe\">\n  <thead>\n    <tr style=\"text-align: right;\">\n      <th></th>\n      <th>firstname</th>\n      <th>lastname</th>\n      <th>gender</th>\n    </tr>\n  </thead>\n  <tbody>\n    <tr>\n      <th>0</th>\n      <td>name1</td>\n      <td>lastname1</td>\n      <td>Female</td>\n    </tr>\n    <tr>\n      <th>1</th>\n      <td>name2</td>\n      <td>lastname2</td>\n      <td>Female</td>\n    </tr>\n    <tr>\n      <th>2</th>\n      <td>name3</td>\n      <td>lastname3</td>\n      <td>Female</td>\n    </tr>\n    <tr>\n      <th>3</th>\n      <td>name4</td>\n      <td>lastname4</td>\n      <td>Male</td>\n    </tr>\n    <tr>\n      <th>4</th>\n      <td>name5</td>\n      <td>lastname5</td>\n      <td>Female</td>\n    </tr>\n    <tr>\n      <th>...</th>\n      <td>...</td>\n      <td>...</td>\n      <td>...</td>\n    </tr>\n    <tr>\n      <th>2995</th>\n      <td>name2996</td>\n      <td>lastname2996</td>\n      <td>Female</td>\n    </tr>\n    <tr>\n      <th>2996</th>\n      <td>name2997</td>\n      <td>lastname2997</td>\n      <td>Male</td>\n    </tr>\n    <tr>\n      <th>2997</th>\n      <td>name2998</td>\n      <td>lastname2998</td>\n      <td>Female</td>\n    </tr>\n    <tr>\n      <th>2998</th>\n      <td>name2999</td>\n      <td>lastname2999</td>\n      <td>Male</td>\n    </tr>\n    <tr>\n      <th>2999</th>\n      <td>name3000</td>\n      <td>lastname3000</td>\n      <td>Male</td>\n    </tr>\n  </tbody>\n</table>\n<p>3000 rows × 3 columns</p>\n</div>"
     },
     "metadata": {},
     "execution_count": 39
    }
   ],
   "source": [
    "# write code here\n",
    "genderprofiles = pd.read_csv('studentprofiles.csv')\n",
    "genderprofiles\n",
    "\n"
   ]
  },
  {
   "cell_type": "code",
   "execution_count": 40,
   "metadata": {},
   "outputs": [
    {
     "output_type": "execute_result",
     "data": {
      "text/plain": "     firstname      lastname  gender birthmonth  birthday  birthyear  \\\n0        name1     lastname1  Female   November        26       1998   \n1        name2     lastname2  Female        May        26       2001   \n2        name3     lastname3  Female        May        16       1997   \n3        name4     lastname4    Male   December         9       1997   \n4        name5     lastname5  Female  September         5       1997   \n...        ...           ...     ...        ...       ...        ...   \n2995  name2996  lastname2996  Female      March        28       1997   \n2996  name2997  lastname2997    Male        May        19       1998   \n2997  name2998  lastname2998  Female       July         3       1998   \n2998  name2999  lastname2999    Male   December         2       1998   \n2999  name3000  lastname3000    Male       July        13       1997   \n\n                            course  yearlevel    phonenumber  \n0              BS Legal Management          2  0918 302 6210  \n1                    BS Management          4  0927 212 6276  \n2     BS Communications Technology          1  0918 253 7017  \n3           BS IT Entrepreneurship          3  0918 714 4360  \n4     BS Communications Technology          3  0927 462 1674  \n...                            ...        ...            ...  \n2995  BS Communications Technology          2  0917 795 5051  \n2996           BS Legal Management          2  0917 445 3378  \n2997        BS IT Entrepreneurship          2  0917 154 5694  \n2998     BS Management Engineering          3  0927 497 8977  \n2999           BS Legal Management          1  0918 719 7624  \n\n[3000 rows x 9 columns]",
      "text/html": "<div>\n<style scoped>\n    .dataframe tbody tr th:only-of-type {\n        vertical-align: middle;\n    }\n\n    .dataframe tbody tr th {\n        vertical-align: top;\n    }\n\n    .dataframe thead th {\n        text-align: right;\n    }\n</style>\n<table border=\"1\" class=\"dataframe\">\n  <thead>\n    <tr style=\"text-align: right;\">\n      <th></th>\n      <th>firstname</th>\n      <th>lastname</th>\n      <th>gender</th>\n      <th>birthmonth</th>\n      <th>birthday</th>\n      <th>birthyear</th>\n      <th>course</th>\n      <th>yearlevel</th>\n      <th>phonenumber</th>\n    </tr>\n  </thead>\n  <tbody>\n    <tr>\n      <th>0</th>\n      <td>name1</td>\n      <td>lastname1</td>\n      <td>Female</td>\n      <td>November</td>\n      <td>26</td>\n      <td>1998</td>\n      <td>BS Legal Management</td>\n      <td>2</td>\n      <td>0918 302 6210</td>\n    </tr>\n    <tr>\n      <th>1</th>\n      <td>name2</td>\n      <td>lastname2</td>\n      <td>Female</td>\n      <td>May</td>\n      <td>26</td>\n      <td>2001</td>\n      <td>BS Management</td>\n      <td>4</td>\n      <td>0927 212 6276</td>\n    </tr>\n    <tr>\n      <th>2</th>\n      <td>name3</td>\n      <td>lastname3</td>\n      <td>Female</td>\n      <td>May</td>\n      <td>16</td>\n      <td>1997</td>\n      <td>BS Communications Technology</td>\n      <td>1</td>\n      <td>0918 253 7017</td>\n    </tr>\n    <tr>\n      <th>3</th>\n      <td>name4</td>\n      <td>lastname4</td>\n      <td>Male</td>\n      <td>December</td>\n      <td>9</td>\n      <td>1997</td>\n      <td>BS IT Entrepreneurship</td>\n      <td>3</td>\n      <td>0918 714 4360</td>\n    </tr>\n    <tr>\n      <th>4</th>\n      <td>name5</td>\n      <td>lastname5</td>\n      <td>Female</td>\n      <td>September</td>\n      <td>5</td>\n      <td>1997</td>\n      <td>BS Communications Technology</td>\n      <td>3</td>\n      <td>0927 462 1674</td>\n    </tr>\n    <tr>\n      <th>...</th>\n      <td>...</td>\n      <td>...</td>\n      <td>...</td>\n      <td>...</td>\n      <td>...</td>\n      <td>...</td>\n      <td>...</td>\n      <td>...</td>\n      <td>...</td>\n    </tr>\n    <tr>\n      <th>2995</th>\n      <td>name2996</td>\n      <td>lastname2996</td>\n      <td>Female</td>\n      <td>March</td>\n      <td>28</td>\n      <td>1997</td>\n      <td>BS Communications Technology</td>\n      <td>2</td>\n      <td>0917 795 5051</td>\n    </tr>\n    <tr>\n      <th>2996</th>\n      <td>name2997</td>\n      <td>lastname2997</td>\n      <td>Male</td>\n      <td>May</td>\n      <td>19</td>\n      <td>1998</td>\n      <td>BS Legal Management</td>\n      <td>2</td>\n      <td>0917 445 3378</td>\n    </tr>\n    <tr>\n      <th>2997</th>\n      <td>name2998</td>\n      <td>lastname2998</td>\n      <td>Female</td>\n      <td>July</td>\n      <td>3</td>\n      <td>1998</td>\n      <td>BS IT Entrepreneurship</td>\n      <td>2</td>\n      <td>0917 154 5694</td>\n    </tr>\n    <tr>\n      <th>2998</th>\n      <td>name2999</td>\n      <td>lastname2999</td>\n      <td>Male</td>\n      <td>December</td>\n      <td>2</td>\n      <td>1998</td>\n      <td>BS Management Engineering</td>\n      <td>3</td>\n      <td>0927 497 8977</td>\n    </tr>\n    <tr>\n      <th>2999</th>\n      <td>name3000</td>\n      <td>lastname3000</td>\n      <td>Male</td>\n      <td>July</td>\n      <td>13</td>\n      <td>1997</td>\n      <td>BS Legal Management</td>\n      <td>1</td>\n      <td>0918 719 7624</td>\n    </tr>\n  </tbody>\n</table>\n<p>3000 rows × 9 columns</p>\n</div>"
     },
     "metadata": {},
     "execution_count": 40
    }
   ],
   "source": [
    "# write code here\n",
    "# Merged recweek and studentprofiles.csv \n",
    "final_recweek= genderprofiles.merge(recweek)\n",
    "final_recweek\n",
    "\n"
   ]
  },
  {
   "cell_type": "code",
   "execution_count": 62,
   "metadata": {},
   "outputs": [],
   "source": [
    "# export to csv\n",
    "# compare with cleanrecweekdata\n",
    "final_recweek.to_csv('cleanrecweekdata.csv')\n",
    "\n"
   ]
  },
  {
   "cell_type": "code",
   "execution_count": 42,
   "metadata": {},
   "outputs": [],
   "source": [
    "# Use ls (Mac) or dir (Windows) cleanrecweekdata.csv\n",
    "# choose appropriate command\n",
    "# !dir cleanrecweekdata.csv\n",
    "# or\n",
    "# !ls cleanrecweekdata.csv"
   ]
  },
  {
   "cell_type": "code",
   "execution_count": 63,
   "metadata": {
    "tags": []
   },
   "outputs": [
    {
     "output_type": "stream",
     "name": "stdout",
     "text": "Volume in drive C is Windows\n Volume Serial Number is 7015-88ED\n\n Directory of c:\\Users\\LB\\Downloads\n\n11/08/2020  02:00 PM           260,942 cleanrecweekdata.csv\n               1 File(s)        260,942 bytes\n               0 Dir(s)  451,183,198,208 bytes free\n"
    }
   ],
   "source": [
    "# write code here\n",
    "!dir cleanrecweekdata.csv\n"
   ]
  },
  {
   "cell_type": "markdown",
   "metadata": {},
   "source": [
    "#### Get statistics"
   ]
  },
  {
   "cell_type": "code",
   "execution_count": 44,
   "metadata": {},
   "outputs": [],
   "source": [
    "# People per Birthmonth sorted by calendar numeric month\n"
   ]
  },
  {
   "cell_type": "code",
   "execution_count": 45,
   "metadata": {},
   "outputs": [
    {
     "output_type": "execute_result",
     "data": {
      "text/plain": "   birthmonth  count\n0     January    270\n1    February    232\n2       March    246\n3       April    267\n4         May    273\n5        June    259\n6        July    249\n7      August    241\n8   September    232\n9     October    178\n10   November    277\n11   December    276",
      "text/html": "<div>\n<style scoped>\n    .dataframe tbody tr th:only-of-type {\n        vertical-align: middle;\n    }\n\n    .dataframe tbody tr th {\n        vertical-align: top;\n    }\n\n    .dataframe thead th {\n        text-align: right;\n    }\n</style>\n<table border=\"1\" class=\"dataframe\">\n  <thead>\n    <tr style=\"text-align: right;\">\n      <th></th>\n      <th>birthmonth</th>\n      <th>count</th>\n    </tr>\n  </thead>\n  <tbody>\n    <tr>\n      <th>0</th>\n      <td>January</td>\n      <td>270</td>\n    </tr>\n    <tr>\n      <th>1</th>\n      <td>February</td>\n      <td>232</td>\n    </tr>\n    <tr>\n      <th>2</th>\n      <td>March</td>\n      <td>246</td>\n    </tr>\n    <tr>\n      <th>3</th>\n      <td>April</td>\n      <td>267</td>\n    </tr>\n    <tr>\n      <th>4</th>\n      <td>May</td>\n      <td>273</td>\n    </tr>\n    <tr>\n      <th>5</th>\n      <td>June</td>\n      <td>259</td>\n    </tr>\n    <tr>\n      <th>6</th>\n      <td>July</td>\n      <td>249</td>\n    </tr>\n    <tr>\n      <th>7</th>\n      <td>August</td>\n      <td>241</td>\n    </tr>\n    <tr>\n      <th>8</th>\n      <td>September</td>\n      <td>232</td>\n    </tr>\n    <tr>\n      <th>9</th>\n      <td>October</td>\n      <td>178</td>\n    </tr>\n    <tr>\n      <th>10</th>\n      <td>November</td>\n      <td>277</td>\n    </tr>\n    <tr>\n      <th>11</th>\n      <td>December</td>\n      <td>276</td>\n    </tr>\n  </tbody>\n</table>\n</div>"
     },
     "metadata": {},
     "execution_count": 45
    }
   ],
   "source": [
    "# Write code here\n",
    "# shout out to https://stackoverflow.com/questions/10373660/converting-a-pandas-groupby-output-from-series-to-dataframe#comment65222287_10374456 actually saved my life haha\n",
    "birthmonth_df=final_recweek.groupby([\"birthmonth\"]).size().to_frame(name = 'count').copy()\n",
    "months=[\"January\",\"February\",\"March\",\"April\",\"May\",\"June\",\"July\",\"August\",\"September\",\"October\",\"November\",\"December\"]\n",
    "birthmonth_df = birthmonth_df.reindex(months)\n",
    "birthmonth_df.reset_index(inplace=True)\n",
    "birthmonth_df\n"
   ]
  },
  {
   "cell_type": "code",
   "execution_count": 46,
   "metadata": {},
   "outputs": [],
   "source": [
    "# same day\n",
    "# sort by calendar day\n"
   ]
  },
  {
   "cell_type": "code",
   "execution_count": 47,
   "metadata": {},
   "outputs": [
    {
     "output_type": "execute_result",
     "data": {
      "text/plain": "    birthday  count\n0          1    112\n1          2    106\n2          3     90\n3          4    110\n4          5    100\n5          6     99\n6          7     88\n7          8    111\n8          9     98\n9         10    111\n10        11    105\n11        12     98\n12        13    119\n13        14    102\n14        15    121\n15        16    115\n16        17    116\n17        18    107\n18        19    113\n19        20     91\n20        21    123\n21        22    103\n22        23    116\n23        24    108\n24        25    116\n25        26    116\n26        27    102\n27        28    104",
      "text/html": "<div>\n<style scoped>\n    .dataframe tbody tr th:only-of-type {\n        vertical-align: middle;\n    }\n\n    .dataframe tbody tr th {\n        vertical-align: top;\n    }\n\n    .dataframe thead th {\n        text-align: right;\n    }\n</style>\n<table border=\"1\" class=\"dataframe\">\n  <thead>\n    <tr style=\"text-align: right;\">\n      <th></th>\n      <th>birthday</th>\n      <th>count</th>\n    </tr>\n  </thead>\n  <tbody>\n    <tr>\n      <th>0</th>\n      <td>1</td>\n      <td>112</td>\n    </tr>\n    <tr>\n      <th>1</th>\n      <td>2</td>\n      <td>106</td>\n    </tr>\n    <tr>\n      <th>2</th>\n      <td>3</td>\n      <td>90</td>\n    </tr>\n    <tr>\n      <th>3</th>\n      <td>4</td>\n      <td>110</td>\n    </tr>\n    <tr>\n      <th>4</th>\n      <td>5</td>\n      <td>100</td>\n    </tr>\n    <tr>\n      <th>5</th>\n      <td>6</td>\n      <td>99</td>\n    </tr>\n    <tr>\n      <th>6</th>\n      <td>7</td>\n      <td>88</td>\n    </tr>\n    <tr>\n      <th>7</th>\n      <td>8</td>\n      <td>111</td>\n    </tr>\n    <tr>\n      <th>8</th>\n      <td>9</td>\n      <td>98</td>\n    </tr>\n    <tr>\n      <th>9</th>\n      <td>10</td>\n      <td>111</td>\n    </tr>\n    <tr>\n      <th>10</th>\n      <td>11</td>\n      <td>105</td>\n    </tr>\n    <tr>\n      <th>11</th>\n      <td>12</td>\n      <td>98</td>\n    </tr>\n    <tr>\n      <th>12</th>\n      <td>13</td>\n      <td>119</td>\n    </tr>\n    <tr>\n      <th>13</th>\n      <td>14</td>\n      <td>102</td>\n    </tr>\n    <tr>\n      <th>14</th>\n      <td>15</td>\n      <td>121</td>\n    </tr>\n    <tr>\n      <th>15</th>\n      <td>16</td>\n      <td>115</td>\n    </tr>\n    <tr>\n      <th>16</th>\n      <td>17</td>\n      <td>116</td>\n    </tr>\n    <tr>\n      <th>17</th>\n      <td>18</td>\n      <td>107</td>\n    </tr>\n    <tr>\n      <th>18</th>\n      <td>19</td>\n      <td>113</td>\n    </tr>\n    <tr>\n      <th>19</th>\n      <td>20</td>\n      <td>91</td>\n    </tr>\n    <tr>\n      <th>20</th>\n      <td>21</td>\n      <td>123</td>\n    </tr>\n    <tr>\n      <th>21</th>\n      <td>22</td>\n      <td>103</td>\n    </tr>\n    <tr>\n      <th>22</th>\n      <td>23</td>\n      <td>116</td>\n    </tr>\n    <tr>\n      <th>23</th>\n      <td>24</td>\n      <td>108</td>\n    </tr>\n    <tr>\n      <th>24</th>\n      <td>25</td>\n      <td>116</td>\n    </tr>\n    <tr>\n      <th>25</th>\n      <td>26</td>\n      <td>116</td>\n    </tr>\n    <tr>\n      <th>26</th>\n      <td>27</td>\n      <td>102</td>\n    </tr>\n    <tr>\n      <th>27</th>\n      <td>28</td>\n      <td>104</td>\n    </tr>\n  </tbody>\n</table>\n</div>"
     },
     "metadata": {},
     "execution_count": 47
    }
   ],
   "source": [
    "# write code here\n",
    "final_recweek.groupby([\"birthday\"]).size().to_frame(name = 'count').reset_index()\n"
   ]
  },
  {
   "cell_type": "code",
   "execution_count": 48,
   "metadata": {},
   "outputs": [],
   "source": [
    "# same year\n",
    "# sort accordingly\n"
   ]
  },
  {
   "cell_type": "code",
   "execution_count": 49,
   "metadata": {},
   "outputs": [
    {
     "output_type": "execute_result",
     "data": {
      "text/plain": "   birthyear  count\n0       1997    756\n1       1998    746\n2       1999    756\n3       2000    380\n4       2001    362",
      "text/html": "<div>\n<style scoped>\n    .dataframe tbody tr th:only-of-type {\n        vertical-align: middle;\n    }\n\n    .dataframe tbody tr th {\n        vertical-align: top;\n    }\n\n    .dataframe thead th {\n        text-align: right;\n    }\n</style>\n<table border=\"1\" class=\"dataframe\">\n  <thead>\n    <tr style=\"text-align: right;\">\n      <th></th>\n      <th>birthyear</th>\n      <th>count</th>\n    </tr>\n  </thead>\n  <tbody>\n    <tr>\n      <th>0</th>\n      <td>1997</td>\n      <td>756</td>\n    </tr>\n    <tr>\n      <th>1</th>\n      <td>1998</td>\n      <td>746</td>\n    </tr>\n    <tr>\n      <th>2</th>\n      <td>1999</td>\n      <td>756</td>\n    </tr>\n    <tr>\n      <th>3</th>\n      <td>2000</td>\n      <td>380</td>\n    </tr>\n    <tr>\n      <th>4</th>\n      <td>2001</td>\n      <td>362</td>\n    </tr>\n  </tbody>\n</table>\n</div>"
     },
     "metadata": {},
     "execution_count": 49
    }
   ],
   "source": [
    "# write code here\n",
    "final_recweek.groupby([\"birthyear\"]).size().to_frame(name = 'count').reset_index()"
   ]
  },
  {
   "cell_type": "code",
   "execution_count": 50,
   "metadata": {},
   "outputs": [],
   "source": [
    "# same year level\n",
    "# sort accordingly\n"
   ]
  },
  {
   "cell_type": "code",
   "execution_count": 51,
   "metadata": {},
   "outputs": [
    {
     "output_type": "execute_result",
     "data": {
      "text/plain": "   yearlevel  count\n0          1    760\n1          2    791\n2          3    751\n3          4    698",
      "text/html": "<div>\n<style scoped>\n    .dataframe tbody tr th:only-of-type {\n        vertical-align: middle;\n    }\n\n    .dataframe tbody tr th {\n        vertical-align: top;\n    }\n\n    .dataframe thead th {\n        text-align: right;\n    }\n</style>\n<table border=\"1\" class=\"dataframe\">\n  <thead>\n    <tr style=\"text-align: right;\">\n      <th></th>\n      <th>yearlevel</th>\n      <th>count</th>\n    </tr>\n  </thead>\n  <tbody>\n    <tr>\n      <th>0</th>\n      <td>1</td>\n      <td>760</td>\n    </tr>\n    <tr>\n      <th>1</th>\n      <td>2</td>\n      <td>791</td>\n    </tr>\n    <tr>\n      <th>2</th>\n      <td>3</td>\n      <td>751</td>\n    </tr>\n    <tr>\n      <th>3</th>\n      <td>4</td>\n      <td>698</td>\n    </tr>\n  </tbody>\n</table>\n</div>"
     },
     "metadata": {},
     "execution_count": 51
    }
   ],
   "source": [
    "# write code here\n",
    "final_recweek.groupby([\"yearlevel\"]).size().to_frame(name = 'count').reset_index()\n"
   ]
  },
  {
   "cell_type": "code",
   "execution_count": 52,
   "metadata": {},
   "outputs": [],
   "source": [
    "# same course\n",
    "# sorting does not matter\n"
   ]
  },
  {
   "cell_type": "code",
   "execution_count": 53,
   "metadata": {},
   "outputs": [
    {
     "output_type": "execute_result",
     "data": {
      "text/plain": "                                    course  count\n0             BS Communications Technology    394\n1                   BS IT Entrepreneurship    389\n2                      BS Legal Management    585\n3                            BS Management    629\n4                BS Management Engineering    607\n5                Communications Technology    195\n6  Information Technology Entrepreneurship    201",
      "text/html": "<div>\n<style scoped>\n    .dataframe tbody tr th:only-of-type {\n        vertical-align: middle;\n    }\n\n    .dataframe tbody tr th {\n        vertical-align: top;\n    }\n\n    .dataframe thead th {\n        text-align: right;\n    }\n</style>\n<table border=\"1\" class=\"dataframe\">\n  <thead>\n    <tr style=\"text-align: right;\">\n      <th></th>\n      <th>course</th>\n      <th>count</th>\n    </tr>\n  </thead>\n  <tbody>\n    <tr>\n      <th>0</th>\n      <td>BS Communications Technology</td>\n      <td>394</td>\n    </tr>\n    <tr>\n      <th>1</th>\n      <td>BS IT Entrepreneurship</td>\n      <td>389</td>\n    </tr>\n    <tr>\n      <th>2</th>\n      <td>BS Legal Management</td>\n      <td>585</td>\n    </tr>\n    <tr>\n      <th>3</th>\n      <td>BS Management</td>\n      <td>629</td>\n    </tr>\n    <tr>\n      <th>4</th>\n      <td>BS Management Engineering</td>\n      <td>607</td>\n    </tr>\n    <tr>\n      <th>5</th>\n      <td>Communications Technology</td>\n      <td>195</td>\n    </tr>\n    <tr>\n      <th>6</th>\n      <td>Information Technology Entrepreneurship</td>\n      <td>201</td>\n    </tr>\n  </tbody>\n</table>\n</div>"
     },
     "metadata": {},
     "execution_count": 53
    }
   ],
   "source": [
    "# write code here\n",
    "final_recweek.groupby([\"course\"]).size().to_frame(name = 'count').reset_index()\n",
    "\n"
   ]
  },
  {
   "cell_type": "code",
   "execution_count": 57,
   "metadata": {},
   "outputs": [
    {
     "output_type": "execute_result",
     "data": {
      "text/plain": "     firstname      lastname  gender birthmonth  birthday  birthyear  \\\n0        name1     lastname1  Female   November        26       1998   \n1        name2     lastname2  Female        May        26       2001   \n2        name3     lastname3  Female        May        16       1997   \n3        name4     lastname4    Male   December         9       1997   \n4        name5     lastname5  Female  September         5       1997   \n...        ...           ...     ...        ...       ...        ...   \n2995  name2996  lastname2996  Female      March        28       1997   \n2996  name2997  lastname2997    Male        May        19       1998   \n2997  name2998  lastname2998  Female       July         3       1998   \n2998  name2999  lastname2999    Male   December         2       1998   \n2999  name3000  lastname3000    Male       July        13       1997   \n\n                            course  yearlevel    phonenumber Carrier  \n0              BS Legal Management          2  0918 302 6210   Smart  \n1                    BS Management          4  0927 212 6276   Globe  \n2     BS Communications Technology          1  0918 253 7017   Smart  \n3           BS IT Entrepreneurship          3  0918 714 4360   Smart  \n4     BS Communications Technology          3  0927 462 1674   Globe  \n...                            ...        ...            ...     ...  \n2995  BS Communications Technology          2  0917 795 5051   Globe  \n2996           BS Legal Management          2  0917 445 3378   Globe  \n2997        BS IT Entrepreneurship          2  0917 154 5694   Globe  \n2998     BS Management Engineering          3  0927 497 8977   Globe  \n2999           BS Legal Management          1  0918 719 7624   Smart  \n\n[3000 rows x 10 columns]",
      "text/html": "<div>\n<style scoped>\n    .dataframe tbody tr th:only-of-type {\n        vertical-align: middle;\n    }\n\n    .dataframe tbody tr th {\n        vertical-align: top;\n    }\n\n    .dataframe thead th {\n        text-align: right;\n    }\n</style>\n<table border=\"1\" class=\"dataframe\">\n  <thead>\n    <tr style=\"text-align: right;\">\n      <th></th>\n      <th>firstname</th>\n      <th>lastname</th>\n      <th>gender</th>\n      <th>birthmonth</th>\n      <th>birthday</th>\n      <th>birthyear</th>\n      <th>course</th>\n      <th>yearlevel</th>\n      <th>phonenumber</th>\n      <th>Carrier</th>\n    </tr>\n  </thead>\n  <tbody>\n    <tr>\n      <th>0</th>\n      <td>name1</td>\n      <td>lastname1</td>\n      <td>Female</td>\n      <td>November</td>\n      <td>26</td>\n      <td>1998</td>\n      <td>BS Legal Management</td>\n      <td>2</td>\n      <td>0918 302 6210</td>\n      <td>Smart</td>\n    </tr>\n    <tr>\n      <th>1</th>\n      <td>name2</td>\n      <td>lastname2</td>\n      <td>Female</td>\n      <td>May</td>\n      <td>26</td>\n      <td>2001</td>\n      <td>BS Management</td>\n      <td>4</td>\n      <td>0927 212 6276</td>\n      <td>Globe</td>\n    </tr>\n    <tr>\n      <th>2</th>\n      <td>name3</td>\n      <td>lastname3</td>\n      <td>Female</td>\n      <td>May</td>\n      <td>16</td>\n      <td>1997</td>\n      <td>BS Communications Technology</td>\n      <td>1</td>\n      <td>0918 253 7017</td>\n      <td>Smart</td>\n    </tr>\n    <tr>\n      <th>3</th>\n      <td>name4</td>\n      <td>lastname4</td>\n      <td>Male</td>\n      <td>December</td>\n      <td>9</td>\n      <td>1997</td>\n      <td>BS IT Entrepreneurship</td>\n      <td>3</td>\n      <td>0918 714 4360</td>\n      <td>Smart</td>\n    </tr>\n    <tr>\n      <th>4</th>\n      <td>name5</td>\n      <td>lastname5</td>\n      <td>Female</td>\n      <td>September</td>\n      <td>5</td>\n      <td>1997</td>\n      <td>BS Communications Technology</td>\n      <td>3</td>\n      <td>0927 462 1674</td>\n      <td>Globe</td>\n    </tr>\n    <tr>\n      <th>...</th>\n      <td>...</td>\n      <td>...</td>\n      <td>...</td>\n      <td>...</td>\n      <td>...</td>\n      <td>...</td>\n      <td>...</td>\n      <td>...</td>\n      <td>...</td>\n      <td>...</td>\n    </tr>\n    <tr>\n      <th>2995</th>\n      <td>name2996</td>\n      <td>lastname2996</td>\n      <td>Female</td>\n      <td>March</td>\n      <td>28</td>\n      <td>1997</td>\n      <td>BS Communications Technology</td>\n      <td>2</td>\n      <td>0917 795 5051</td>\n      <td>Globe</td>\n    </tr>\n    <tr>\n      <th>2996</th>\n      <td>name2997</td>\n      <td>lastname2997</td>\n      <td>Male</td>\n      <td>May</td>\n      <td>19</td>\n      <td>1998</td>\n      <td>BS Legal Management</td>\n      <td>2</td>\n      <td>0917 445 3378</td>\n      <td>Globe</td>\n    </tr>\n    <tr>\n      <th>2997</th>\n      <td>name2998</td>\n      <td>lastname2998</td>\n      <td>Female</td>\n      <td>July</td>\n      <td>3</td>\n      <td>1998</td>\n      <td>BS IT Entrepreneurship</td>\n      <td>2</td>\n      <td>0917 154 5694</td>\n      <td>Globe</td>\n    </tr>\n    <tr>\n      <th>2998</th>\n      <td>name2999</td>\n      <td>lastname2999</td>\n      <td>Male</td>\n      <td>December</td>\n      <td>2</td>\n      <td>1998</td>\n      <td>BS Management Engineering</td>\n      <td>3</td>\n      <td>0927 497 8977</td>\n      <td>Globe</td>\n    </tr>\n    <tr>\n      <th>2999</th>\n      <td>name3000</td>\n      <td>lastname3000</td>\n      <td>Male</td>\n      <td>July</td>\n      <td>13</td>\n      <td>1997</td>\n      <td>BS Legal Management</td>\n      <td>1</td>\n      <td>0918 719 7624</td>\n      <td>Smart</td>\n    </tr>\n  </tbody>\n</table>\n<p>3000 rows × 10 columns</p>\n</div>"
     },
     "metadata": {},
     "execution_count": 57
    }
   ],
   "source": [
    "# write code here\n",
    "final_recweek_with_carrier = final_recweek.copy()\n",
    "final_recweek_with_carrier[\"Carrier\"]= recweek['phonenumber'].apply(lambda x: carrier(x))\n",
    "final_recweek_with_carrier"
   ]
  },
  {
   "cell_type": "code",
   "execution_count": 60,
   "metadata": {},
   "outputs": [
    {
     "output_type": "execute_result",
     "data": {
      "text/plain": "  Carrier  gender  count\n0   Globe  Female    984\n1   Globe    Male   1061\n2   Smart  Female    494\n3   Smart    Male    461",
      "text/html": "<div>\n<style scoped>\n    .dataframe tbody tr th:only-of-type {\n        vertical-align: middle;\n    }\n\n    .dataframe tbody tr th {\n        vertical-align: top;\n    }\n\n    .dataframe thead th {\n        text-align: right;\n    }\n</style>\n<table border=\"1\" class=\"dataframe\">\n  <thead>\n    <tr style=\"text-align: right;\">\n      <th></th>\n      <th>Carrier</th>\n      <th>gender</th>\n      <th>count</th>\n    </tr>\n  </thead>\n  <tbody>\n    <tr>\n      <th>0</th>\n      <td>Globe</td>\n      <td>Female</td>\n      <td>984</td>\n    </tr>\n    <tr>\n      <th>1</th>\n      <td>Globe</td>\n      <td>Male</td>\n      <td>1061</td>\n    </tr>\n    <tr>\n      <th>2</th>\n      <td>Smart</td>\n      <td>Female</td>\n      <td>494</td>\n    </tr>\n    <tr>\n      <th>3</th>\n      <td>Smart</td>\n      <td>Male</td>\n      <td>461</td>\n    </tr>\n  </tbody>\n</table>\n</div>"
     },
     "metadata": {},
     "execution_count": 60
    }
   ],
   "source": [
    "# Carrier counts\n",
    "final_recweek_with_carrier.groupby([\"Carrier\"]).size().to_frame(name = 'count').reset_index()\n",
    "# Carrier count with gender\n",
    "final_recweek_with_carrier.groupby([\"Carrier\",\"gender\"]).size().to_frame(name = 'count').reset_index()"
   ]
  }
 ],
 "metadata": {
  "kernelspec": {
   "display_name": "Python 3",
   "language": "python",
   "name": "python3"
  },
  "language_info": {
   "codemirror_mode": {
    "name": "ipython",
    "version": 3
   },
   "file_extension": ".py",
   "mimetype": "text/x-python",
   "name": "python",
   "nbconvert_exporter": "python",
   "pygments_lexer": "ipython3",
   "version": "3.8.3"
  }
 },
 "nbformat": 4,
 "nbformat_minor": 4
}