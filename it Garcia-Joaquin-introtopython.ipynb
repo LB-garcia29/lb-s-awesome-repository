{
 "cells": [
  {
   "cell_type": "markdown",
   "metadata": {},
   "source": [
    "# Joaquin Lorenzo Dario Garcia\n",
    "## 192168\n",
    "### 2 BS ME"
   ]
  },
  {
   "cell_type": "code",
   "execution_count": 9,
   "metadata": {},
   "outputs": [],
   "source": [
    "def three_number_average(no1, no2, no3):\n",
    "    ave=(no1+no2+no3)/3\n",
    "    return ave\n",
    "    "
   ]
  },
  {
   "cell_type": "code",
   "execution_count": 10,
   "metadata": {},
   "outputs": [
    {
     "name": "stdout",
     "output_type": "stream",
     "text": [
      "What is your first number? 1\n",
      "What is your second number? 2\n",
      "What is your third number? 3\n",
      "The average of the three numbers is  2.0\n"
     ]
    }
   ],
   "source": [
    "no1 = float(input(\"What is your first number? \"))\n",
    "no2 = float(input(\"What is your second number? \"))\n",
    "\n",
    "no3 = float(input(\"What is your third number? \"))\n",
    "\n",
    "average=three_number_average(no1,no2,no3)\n",
    "print(\"The average of the three numbers is \", average)"
   ]
  },
  {
   "cell_type": "code",
   "execution_count": null,
   "metadata": {},
   "outputs": [],
   "source": []
  }
 ],
 "metadata": {
  "kernelspec": {
   "display_name": "Python 3",
   "language": "python",
   "name": "python3"
  },
  "language_info": {
   "codemirror_mode": {
    "name": "ipython",
    "version": 3
   },
   "file_extension": ".py",
   "mimetype": "text/x-python",
   "name": "python",
   "nbconvert_exporter": "python",
   "pygments_lexer": "ipython3",
   "version": "3.7.6"
  }
 },
 "nbformat": 4,
 "nbformat_minor": 4
}
