{
 "cells": [
  {
   "cell_type": "markdown",
   "metadata": {},
   "source": [
    "# 192168\n",
    "## Garcia\n",
    "### 2 BS ME"
   ]
  },
  {
   "cell_type": "code",
   "execution_count": 32,
   "metadata": {},
   "outputs": [],
   "source": [
    "def relationship_status(name1,name2):\n",
    "    social_graph = {\n",
    "    \"@bongolpoc\":{\"first_name\":\"Joselito\",\n",
    "                  \"last_name\":\"Olpoc\",\n",
    "                  \"following\":[\n",
    "                  ]\n",
    "    },\n",
    "    \"@joaquin\":  {\"first_name\":\"Joaquin\",\n",
    "                  \"last_name\":\"Gonzales\",\n",
    "                  \"following\":[\n",
    "                      \"@chums\",\"@jobenilagan\"\n",
    "                  ]\n",
    "    },\n",
    "    \"@chums\" : {\"first_name\":\"Matthew\",\n",
    "                \"last_name\":\"Uy\",\n",
    "                \"following\":[\n",
    "                    \"@bongolpoc\",\"@miketan\",\"@rudyang\",\"@joeilagan\"\n",
    "                ]\n",
    "    },\n",
    "    \"@jobenilagan\":{\"first_name\":\"Joben\",\n",
    "                   \"last_name\":\"Ilagan\",\n",
    "                   \"following\":[\n",
    "                    \"@eeebeee\",\"@joeilagan\",\"@chums\",\"@joaquin\"\n",
    "                   ]\n",
    "    },\n",
    "    \"@joeilagan\":{\"first_name\":\"Joe\",\n",
    "                  \"last_name\":\"Ilagan\",\n",
    "                  \"following\":[\n",
    "                    \"@eeebeee\",\"@jobenilagan\",\"@chums\"\n",
    "                  ]\n",
    "    },\n",
    "    \"@eeebeee\":  {\"first_name\":\"Elizabeth\",\n",
    "                  \"last_name\":\"Ilagan\",\n",
    "                  \"following\":[\n",
    "                    \"@jobenilagan\",\"@joeilagan\"\n",
    "                  ]\n",
    "    },\n",
    "}\n",
    "    list_name1=name1[1:]\n",
    "    list_name2=name2[1:]\n",
    "\n",
    "    if name1 in social_graph[name2][\"following\"] and name2 in social_graph[name1][\"following\"]:\n",
    "        return(\"friends\")\n",
    "    elif name1 in social_graph[name2][\"following\"]:\n",
    "        return(\"followed by\")\n",
    "    elif name2 in social_graph[name1][\"following\"]:\n",
    "        return(\"following\")\n"
   ]
  },
  {
   "cell_type": "code",
   "execution_count": 33,
   "metadata": {},
   "outputs": [
    {
     "data": {
      "text/plain": [
       "'followed by'"
      ]
     },
     "execution_count": 33,
     "metadata": {},
     "output_type": "execute_result"
    }
   ],
   "source": [
    "relationship_status(\"@chums\",\"@jobenilagan\")\n",
    "\n"
   ]
  },
  {
   "cell_type": "code",
   "execution_count": 34,
   "metadata": {},
   "outputs": [
    {
     "data": {
      "text/plain": [
       "'friends'"
      ]
     },
     "execution_count": 34,
     "metadata": {},
     "output_type": "execute_result"
    }
   ],
   "source": [
    "relationship_status(\"@jobenilagan\",\"@joeilagan\")\n",
    "\n",
    "\n"
   ]
  },
  {
   "cell_type": "code",
   "execution_count": 35,
   "metadata": {},
   "outputs": [
    {
     "data": {
      "text/plain": [
       "'followed by'"
      ]
     },
     "execution_count": 35,
     "metadata": {},
     "output_type": "execute_result"
    }
   ],
   "source": [
    "relationship_status(\"@bongolpoc\",\"@chums\")\n"
   ]
  },
  {
   "cell_type": "code",
   "execution_count": 36,
   "metadata": {},
   "outputs": [],
   "source": [
    "relationship_status(\"@bongolpoc\",\"@jobenilagan\")\n"
   ]
  },
  {
   "cell_type": "code",
   "execution_count": 37,
   "metadata": {},
   "outputs": [
    {
     "data": {
      "text/plain": [
       "'followed by'"
      ]
     },
     "execution_count": 37,
     "metadata": {},
     "output_type": "execute_result"
    }
   ],
   "source": [
    "\n",
    "relationship_status(\"@bongolpoc\",\"@chums\")\n",
    "\n"
   ]
  },
  {
   "cell_type": "code",
   "execution_count": 38,
   "metadata": {},
   "outputs": [
    {
     "data": {
      "text/plain": [
       "'friends'"
      ]
     },
     "execution_count": 38,
     "metadata": {},
     "output_type": "execute_result"
    }
   ],
   "source": [
    "relationship_status(\"@chums\",\"@joeilagan\")\n",
    "\n"
   ]
  },
  {
   "cell_type": "code",
   "execution_count": 39,
   "metadata": {},
   "outputs": [
    {
     "data": {
      "text/plain": [
       "'friends'"
      ]
     },
     "execution_count": 39,
     "metadata": {},
     "output_type": "execute_result"
    }
   ],
   "source": [
    "\n",
    "relationship_status(\"@joeilagan\",\"@chums\")"
   ]
  },
  {
   "cell_type": "code",
   "execution_count": 40,
   "metadata": {},
   "outputs": [],
   "source": [
    "board1 = [\n",
    "['X','X','O'],\n",
    "['O','X','O'],\n",
    "['O','','X'],\n",
    "]\n",
    "\n",
    "board2 = [\n",
    "['X','X','O'],\n",
    "['O','X','O'],\n",
    "['','O','X'],\n",
    "]\n",
    "\n",
    "board3 = [\n",
    "['O','X','O'],\n",
    "['','O','X'],\n",
    "['X','X','O'],\n",
    "]\n",
    "\n",
    "board4 = [\n",
    "['X','X','X'],\n",
    "['O','X','O'],\n",
    "['O','','O'],\n",
    "]\n",
    "\n",
    "board5 = [\n",
    "['X','X','O'],\n",
    "['O','X','O'],\n",
    "['X','','O'],\n",
    "]\n",
    "\n",
    "board6 = [\n",
    "['X','X','O'],\n",
    "['O','X','O'],\n",
    "['X','',''],\n",
    "]\n",
    "def get_winner(x):\n",
    "    use_board=[]\n",
    "\n",
    "    if x==board1:\n",
    "        use_board=board1\n",
    "    elif x==board2:\n",
    "        use_board=board2\n",
    "    elif x==board3:\n",
    "        use_board=board3\n",
    "    elif x==board4:\n",
    "        use_board=board4\n",
    "    elif x==board5:\n",
    "        use_board=board5\n",
    "    elif x==board6:\n",
    "        use_board=board6\n",
    "    else:\n",
    "        return(\"Invalid Board\")\n",
    "    for i in range(0,3):\n",
    "        if use_board[i]==['X','X','X']:\n",
    "            return(\"X\")\n",
    "        else:\n",
    "            continue\n",
    "    for i in range(0,3):\n",
    "        if use_board[i]==['O','O','O']:\n",
    "            return(\"O\")\n",
    "        else:\n",
    "            continue\n",
    "    for i in range(0,3):\n",
    "        hori_check=[]\n",
    "        for j in range(0,3):\n",
    "            hori_check.append(use_board[j][i])\n",
    "        if hori_check[0]==hori_check[1]==hori_check[2]==\"O\" or hori_check[0]==hori_check[1]==hori_check[2]==\"X\":\n",
    "            return hori_check[0]\n",
    "        else:\n",
    "            continue\n",
    "    diag_check=[]\n",
    "    for j in range(0,3):\n",
    "        i=j\n",
    "        diag_check.append(use_board[j][i])\n",
    "    if diag_check[0]==diag_check[1]==diag_check[2]==\"O\" or diag_check[0]==diag_check[1]==diag_check[2]==\"X\":\n",
    "        return diag_check[0]\n",
    "    if use_board[0][2]==use_board[1][1]==use_board[2][0]:\n",
    "        return use_board[0][2]\n",
    "    print(\"no winner\")\n",
    "    "
   ]
  },
  {
   "cell_type": "code",
   "execution_count": 41,
   "metadata": {},
   "outputs": [
    {
     "name": "stdout",
     "output_type": "stream",
     "text": [
      "no winner\n"
     ]
    }
   ],
   "source": [
    "\n",
    "get_winner(board6)"
   ]
  },
  {
   "cell_type": "code",
   "execution_count": 47,
   "metadata": {},
   "outputs": [],
   "source": [
    "locations = {\n",
    "    \"admu\":{\n",
    "        \"name\":\"Ateneo de Manila University\",\n",
    "        \"latitude\":14.6394557,\n",
    "        \"longitude\":121.0758975        \n",
    "    },\n",
    "    \"upd\":{\n",
    "        \"name\":\"University of the Philippines-Diliman Campus\",\n",
    "        \"latitude\":14.6538519,\n",
    "        \"longitude\":121.0663348\n",
    "    },\n",
    "    \"dlsu\":{\n",
    "        \"name\":\"De La Salle University-Taft\",\n",
    "        \"latitude\":14.5647346,\n",
    "        \"longitude\":120.9909876\n",
    "\n",
    "    }, # <-- Note that Python does not complain about this extra comma. This is perfectly okay.\n",
    "       #     The creators of Python saw that dictionaries tend to be changed a lot, so allowing this is a\n",
    "       #     convenience for developers who need to add elements when needed.\n",
    "}\n",
    "\n",
    "legs = {\n",
    "     (\"upd\",\"admu\"):{\n",
    "         \"travel_time_mins\":10\n",
    "     },\n",
    "     (\"admu\",\"dlsu\"):{\n",
    "         \"travel_time_mins\":35\n",
    "     },\n",
    "     (\"dlsu\",\"upd\"):{\n",
    "         \"travel_time_mins\":55\n",
    "     }\n",
    "}\n",
    "\n",
    "def eta(source,destination):\n",
    "    pass\n",
    "    if source==\"upd\":\n",
    "        if destination==\"admu\":\n",
    "            print(\"ETA \",legs[(\"upd\",\"admu\")][\"travel_time_mins\"])\n",
    "        elif destination==\"dlsu\":\n",
    "            print(\"ETA \",legs[(\"upd\",\"admu\")][\"travel_time_mins\"]+legs[(\"admu\",\"dlsu\")][\"travel_time_mins\"])\n",
    "        else:\n",
    "            print(\"invalid input\")\n",
    "    elif source==\"admu\":\n",
    "        if destination==\"upd\":\n",
    "            print(\"ETA \",legs[(\"admu\",\"dlsu\")][\"travel_time_mins\"] + legs[(\"dlsu\",\"upd\")][\"travel_time_mins\"])\n",
    "        elif destination==\"dlsu\":\n",
    "            print(\"ETA \",legs[(\"admu\",\"dlsu\")][\"travel_time_mins\"])\n",
    "        else:\n",
    "            print(\"invalid destinationinput\")\n",
    "    elif source==\"dlsu\":\n",
    "        if destination==\"upd\":\n",
    "            print(\"ETA \",legs[(\"dlsu\",\"upd\")]+[\"travel_time_mins\"])\n",
    "        elif destination==\"admu\":\n",
    "            print(\"ETA \",legs[(\"dlsu\",\"up\")][\"travel_time_mins\"]+legs[(\"upd\",\"admu\")][\"travel_time_mins\"])\n",
    "        else:\n",
    "            print(\"invalid input\")\n",
    "    else:\n",
    "        print(\"Invalid input\")"
   ]
  },
  {
   "cell_type": "code",
   "execution_count": 50,
   "metadata": {},
   "outputs": [
    {
     "name": "stdout",
     "output_type": "stream",
     "text": [
      "Enter source: upd\n",
      "Enter destination: dlsu\n",
      "ETA  45\n"
     ]
    }
   ],
   "source": [
    "source=input(\"Enter source: \")\n",
    "destination=input(\"Enter destination: \")\n",
    "eta(source,destination)\n"
   ]
  },
  {
   "cell_type": "code",
   "execution_count": null,
   "metadata": {},
   "outputs": [],
   "source": []
  },
  {
   "cell_type": "code",
   "execution_count": null,
   "metadata": {},
   "outputs": [],
   "source": []
  }
 ],
 "metadata": {
  "kernelspec": {
   "display_name": "Python 3",
   "language": "python",
   "name": "python3"
  },
  "language_info": {
   "codemirror_mode": {
    "name": "ipython",
    "version": 3
   },
   "file_extension": ".py",
   "mimetype": "text/x-python",
   "name": "python",
   "nbconvert_exporter": "python",
   "pygments_lexer": "ipython3",
   "version": "3.7.6"
  }
 },
 "nbformat": 4,
 "nbformat_minor": 4
}
